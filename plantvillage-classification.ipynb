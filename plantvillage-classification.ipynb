{
 "cells": [
  {
   "cell_type": "code",
   "execution_count": null,
   "metadata": {
    "execution": {
     "iopub.execute_input": "2023-12-21T04:06:03.982817Z",
     "iopub.status.busy": "2023-12-21T04:06:03.981974Z",
     "iopub.status.idle": "2023-12-21T04:06:03.990340Z",
     "shell.execute_reply": "2023-12-21T04:06:03.989352Z",
     "shell.execute_reply.started": "2023-12-21T04:06:03.982779Z"
    },
    "trusted": true
   },
   "outputs": [
    {
     "ename": "",
     "evalue": "",
     "output_type": "error",
     "traceback": [
      "\u001b[1;31mRunning cells with 'Python -1.-1.-1' requires the ipykernel package.\n",
      "\u001b[1;31mRun the following command to install 'ipykernel' into the Python environment. \n",
      "\u001b[1;31mCommand: 'c:/Users/janet/AppData/Local/Microsoft/WindowsApps/python3.11.exe -m pip install ipykernel -U --user --force-reinstall'"
     ]
    }
   ],
   "source": [
    "import os\n",
    "from PIL import Image\n",
    "\n",
    "# import data handling tools\n",
    "import cv2\n",
    "import numpy as np\n",
    "import pandas as pd\n",
    "import seaborn as sns\n",
    "import itertools\n",
    "import matplotlib.pyplot as plt\n",
    "from sklearn.model_selection import train_test_split\n",
    "from sklearn.metrics import confusion_matrix, classification_report\n",
    "from sklearn.preprocessing import OneHotEncoder\n",
    "from sklearn.preprocessing import LabelEncoder\n",
    "from sklearn.metrics import roc_curve, roc_auc_score\n",
    "\n",
    "from sklearn.cluster import KMeans \n",
    "from sklearn.decomposition import PCA\n",
    "from sklearn.linear_model import LogisticRegression\n",
    "from sklearn.metrics import accuracy_score\n",
    "from sklearn.preprocessing import StandardScaler , MinMaxScaler\n",
    "from sklearn.pipeline import Pipeline\n",
    "import warnings\n",
    "\n",
    "with warnings.catch_warnings():\n",
    "    warnings.simplefilter(\"ignore\")"
   ]
  },
  {
   "cell_type": "code",
   "execution_count": null,
   "metadata": {
    "_cell_guid": "b1076dfc-b9ad-4769-8c92-a6c4dae69d19",
    "_uuid": "8f2839f25d086af736a60e9eeb907d3b93b6e0e5",
    "execution": {
     "iopub.execute_input": "2023-12-21T03:18:49.303164Z",
     "iopub.status.busy": "2023-12-21T03:18:49.302407Z",
     "iopub.status.idle": "2023-12-21T03:18:49.329096Z",
     "shell.execute_reply": "2023-12-21T03:18:49.328347Z",
     "shell.execute_reply.started": "2023-12-21T03:18:49.303131Z"
    },
    "trusted": true
   },
   "outputs": [],
   "source": [
    "dataset_path = '/kaggle/input/plantdisease/PlantVillage'\n",
    "selected_classes = ['Pepper__bell___Bacterial_spot', 'Potato___Late_blight', 'Tomato_Late_blight']  \n",
    "\n",
    "data = []\n",
    "labels = []\n",
    "# Iterate through the dataset directory\n",
    "for class_name in os.listdir(dataset_path):\n",
    "    if class_name in selected_classes:\n",
    "        class_dir = os.path.join(dataset_path, class_name)\n",
    "        for img_name in os.listdir(class_dir):\n",
    "            img_path = os.path.join(class_dir, img_name)\n",
    "            data.append(img_path)\n",
    "            labels.append(class_name)\n",
    "\n",
    "df = pd.DataFrame({'data': data, 'label': labels})"
   ]
  },
  {
   "cell_type": "code",
   "execution_count": null,
   "metadata": {
    "execution": {
     "iopub.execute_input": "2023-12-21T03:18:53.020438Z",
     "iopub.status.busy": "2023-12-21T03:18:53.020040Z",
     "iopub.status.idle": "2023-12-21T03:18:53.032195Z",
     "shell.execute_reply": "2023-12-21T03:18:53.031193Z",
     "shell.execute_reply.started": "2023-12-21T03:18:53.020405Z"
    },
    "trusted": true
   },
   "outputs": [],
   "source": [
    "df"
   ]
  },
  {
   "cell_type": "code",
   "execution_count": null,
   "metadata": {
    "execution": {
     "iopub.execute_input": "2023-12-21T02:39:32.558970Z",
     "iopub.status.busy": "2023-12-21T02:39:32.558209Z",
     "iopub.status.idle": "2023-12-21T02:39:32.576224Z",
     "shell.execute_reply": "2023-12-21T02:39:32.575256Z",
     "shell.execute_reply.started": "2023-12-21T02:39:32.558933Z"
    },
    "trusted": true
   },
   "outputs": [],
   "source": [
    "image = Image.open(\"/kaggle/input/plantdisease/PlantVillage/Pepper__bell___Bacterial_spot/0022d6b7-d47c-4ee2-ae9a-392a53f48647___JR_B.Spot 8964.JPG\")\n",
    "width, height = image.size\n",
    "print(f\"Width: {width}, Height: {height}\")"
   ]
  },
  {
   "cell_type": "code",
   "execution_count": null,
   "metadata": {
    "execution": {
     "iopub.execute_input": "2023-12-21T02:39:32.948031Z",
     "iopub.status.busy": "2023-12-21T02:39:32.947237Z",
     "iopub.status.idle": "2023-12-21T02:39:33.905062Z",
     "shell.execute_reply": "2023-12-21T02:39:33.904101Z",
     "shell.execute_reply.started": "2023-12-21T02:39:32.947982Z"
    },
    "trusted": true
   },
   "outputs": [],
   "source": [
    "plt.figure(figsize=(20, 15))\n",
    "\n",
    "for i in range(5):\n",
    "    plt.subplot(1, 5, i + 1)\n",
    "    index = np.random.choice(df.index)\n",
    "    filename = df.loc[index, 'data']\n",
    "    category = df.loc[index, 'label']\n",
    "    img = Image.open(filename)\n",
    "    plt.imshow(img)\n",
    "    plt.title(f'label: {category}')\n",
    "    plt.axis('off') \n",
    "\n",
    "plt.tight_layout()\n",
    "plt.show()"
   ]
  },
  {
   "cell_type": "code",
   "execution_count": null,
   "metadata": {
    "execution": {
     "iopub.execute_input": "2023-12-21T02:39:33.907272Z",
     "iopub.status.busy": "2023-12-21T02:39:33.906926Z",
     "iopub.status.idle": "2023-12-21T02:39:33.912308Z",
     "shell.execute_reply": "2023-12-21T02:39:33.911320Z",
     "shell.execute_reply.started": "2023-12-21T02:39:33.907243Z"
    },
    "trusted": true
   },
   "outputs": [],
   "source": [
    "def extract_hog_features(image):\n",
    "    # Convert the image to grayscale using cv2\n",
    "    gray_image = cv2.cvtColor(image, cv2.COLOR_BGR2GRAY)\n",
    "\n",
    "    hog = cv2.HOGDescriptor()\n",
    "    \n",
    "    # Compute HOG features\n",
    "    hog_features = hog.compute(gray_image)\n",
    "\n",
    "    return hog_features.flatten()"
   ]
  },
  {
   "cell_type": "code",
   "execution_count": null,
   "metadata": {
    "execution": {
     "iopub.execute_input": "2023-12-21T02:39:37.161806Z",
     "iopub.status.busy": "2023-12-21T02:39:37.161380Z",
     "iopub.status.idle": "2023-12-21T02:40:04.571770Z",
     "shell.execute_reply": "2023-12-21T02:40:04.570814Z",
     "shell.execute_reply.started": "2023-12-21T02:39:37.161771Z"
    },
    "trusted": true
   },
   "outputs": [],
   "source": [
    "df_shuffled = df.sample(frac=1, random_state=42).reset_index(drop=True)\n",
    "batch_size = 32  # Adjust batch size based on memory constraints\n",
    "features_list = []\n",
    "labels_list = []\n",
    "\n",
    "# Resize function to downsample images\n",
    "def resize_image(image, new_size=(128, 128)):\n",
    "    return cv2.resize(image, new_size)\n",
    "\n",
    "for start in range(0, len(df_shuffled), batch_size):\n",
    "    end = min(start + batch_size, len(df_shuffled))\n",
    "    batch = df_shuffled[start:end]\n",
    "\n",
    "    batch_features = []\n",
    "    batch_labels = []\n",
    "\n",
    "    for index, row in batch.iterrows():\n",
    "        image = cv2.imread(row['data'])\n",
    "        resized_image = resize_image(image)  # Resize image to smaller dimensions\n",
    "        hog_features = extract_hog_features(resized_image)\n",
    "        batch_features.append(hog_features)\n",
    "        batch_labels.append(row['label'])\n",
    "\n",
    "    features_list.extend(batch_features)\n",
    "    labels_list.extend(batch_labels)"
   ]
  },
  {
   "cell_type": "code",
   "execution_count": null,
   "metadata": {
    "execution": {
     "iopub.execute_input": "2023-12-21T02:49:13.736543Z",
     "iopub.status.busy": "2023-12-21T02:49:13.735840Z",
     "iopub.status.idle": "2023-12-21T02:49:13.937676Z",
     "shell.execute_reply": "2023-12-21T02:49:13.936629Z",
     "shell.execute_reply.started": "2023-12-21T02:49:13.736509Z"
    },
    "trusted": true
   },
   "outputs": [],
   "source": [
    "# Convert lists to NumPy arrays\n",
    "features_array = np.array(features_list)\n",
    "labels_array = np.array(labels_list)\n",
    "label_encoder = LabelEncoder()\n",
    "labels_encoded = label_encoder.fit_transform(labels_array)\n",
    "\n",
    "print(\"Shape of extracted HOG features:\", features_scaled.shape)"
   ]
  },
  {
   "cell_type": "code",
   "execution_count": null,
   "metadata": {
    "execution": {
     "iopub.execute_input": "2023-12-21T02:49:15.423947Z",
     "iopub.status.busy": "2023-12-21T02:49:15.423582Z",
     "iopub.status.idle": "2023-12-21T02:49:15.430572Z",
     "shell.execute_reply": "2023-12-21T02:49:15.429407Z",
     "shell.execute_reply.started": "2023-12-21T02:49:15.423920Z"
    },
    "trusted": true
   },
   "outputs": [],
   "source": [
    "len(labels_encoded)"
   ]
  },
  {
   "cell_type": "code",
   "execution_count": null,
   "metadata": {
    "execution": {
     "iopub.execute_input": "2023-12-21T02:49:16.323827Z",
     "iopub.status.busy": "2023-12-21T02:49:16.323441Z",
     "iopub.status.idle": "2023-12-21T02:49:16.331315Z",
     "shell.execute_reply": "2023-12-21T02:49:16.330265Z",
     "shell.execute_reply.started": "2023-12-21T02:49:16.323789Z"
    },
    "trusted": true
   },
   "outputs": [],
   "source": [
    "np.unique(labels_encoded)"
   ]
  },
  {
   "cell_type": "code",
   "execution_count": null,
   "metadata": {
    "execution": {
     "iopub.execute_input": "2023-12-21T02:49:16.943064Z",
     "iopub.status.busy": "2023-12-21T02:49:16.942163Z",
     "iopub.status.idle": "2023-12-21T02:49:17.101428Z",
     "shell.execute_reply": "2023-12-21T02:49:17.100541Z",
     "shell.execute_reply.started": "2023-12-21T02:49:16.943032Z"
    },
    "trusted": true
   },
   "outputs": [],
   "source": [
    "X_train, X_test, y_train, y_test = train_test_split(features_array, labels_encoded, test_size=0.25, random_state=42 , stratify = labels_encoded)"
   ]
  },
  {
   "cell_type": "code",
   "execution_count": null,
   "metadata": {
    "execution": {
     "iopub.execute_input": "2023-12-21T02:49:17.395579Z",
     "iopub.status.busy": "2023-12-21T02:49:17.394805Z",
     "iopub.status.idle": "2023-12-21T02:49:17.401455Z",
     "shell.execute_reply": "2023-12-21T02:49:17.400331Z",
     "shell.execute_reply.started": "2023-12-21T02:49:17.395542Z"
    },
    "trusted": true
   },
   "outputs": [],
   "source": [
    "print(type(X_train), X_train.shape)\n",
    "print(type(y_train), y_train.shape)\n",
    "print(type(X_test), X_test.shape)\n",
    "print(type(y_test), y_test.shape)"
   ]
  },
  {
   "cell_type": "code",
   "execution_count": null,
   "metadata": {
    "execution": {
     "iopub.execute_input": "2023-12-21T02:49:18.001546Z",
     "iopub.status.busy": "2023-12-21T02:49:18.000763Z",
     "iopub.status.idle": "2023-12-21T02:50:00.104535Z",
     "shell.execute_reply": "2023-12-21T02:50:00.103494Z",
     "shell.execute_reply.started": "2023-12-21T02:49:18.001515Z"
    },
    "trusted": true
   },
   "outputs": [],
   "source": [
    "lr_pipeline = Pipeline([\n",
    "    ('pca', PCA(n_components=2100,random_state=42)), \n",
    "    ('classifier', LogisticRegression(max_iter = 1000,random_state=42))\n",
    "])\n",
    "\n",
    "lr_pipeline.fit(X_train, y_train)"
   ]
  },
  {
   "cell_type": "code",
   "execution_count": null,
   "metadata": {
    "execution": {
     "iopub.execute_input": "2023-12-21T02:50:00.107275Z",
     "iopub.status.busy": "2023-12-21T02:50:00.106679Z",
     "iopub.status.idle": "2023-12-21T02:50:00.877500Z",
     "shell.execute_reply": "2023-12-21T02:50:00.876198Z",
     "shell.execute_reply.started": "2023-12-21T02:50:00.107238Z"
    },
    "trusted": true
   },
   "outputs": [],
   "source": [
    "predictions = lr_pipeline.predict(X_test)\n",
    "accuracy = accuracy_score(y_test, predictions)\n",
    "print(f\"Accuracy: {accuracy:.4f}\")"
   ]
  },
  {
   "cell_type": "code",
   "execution_count": null,
   "metadata": {
    "execution": {
     "iopub.execute_input": "2023-12-21T02:50:08.914035Z",
     "iopub.status.busy": "2023-12-21T02:50:08.913228Z",
     "iopub.status.idle": "2023-12-21T02:50:08.934857Z",
     "shell.execute_reply": "2023-12-21T02:50:08.933904Z",
     "shell.execute_reply.started": "2023-12-21T02:50:08.913999Z"
    },
    "trusted": true
   },
   "outputs": [],
   "source": [
    "report = classification_report(y_test, predictions, output_dict=True,zero_division=1)\n",
    "\n",
    "# Convert the report to a pandas DataFrame for better visualization\n",
    "report = pd.DataFrame(report).transpose()\n",
    "\n",
    "print(report)"
   ]
  },
  {
   "cell_type": "code",
   "execution_count": null,
   "metadata": {
    "execution": {
     "iopub.execute_input": "2023-12-21T02:50:10.012810Z",
     "iopub.status.busy": "2023-12-21T02:50:10.012097Z",
     "iopub.status.idle": "2023-12-21T02:50:10.434404Z",
     "shell.execute_reply": "2023-12-21T02:50:10.433412Z",
     "shell.execute_reply.started": "2023-12-21T02:50:10.012775Z"
    },
    "trusted": true
   },
   "outputs": [],
   "source": [
    "classes = selected_classes\n",
    "\n",
    "\n",
    "cm = confusion_matrix(y_test, predictions)\n",
    "\n",
    "plt.figure(figsize= (10, 10))\n",
    "plt.imshow(cm, interpolation= 'nearest', cmap= plt.cm.Blues)\n",
    "plt.title('Confusion Matrix')\n",
    "plt.colorbar()\n",
    "\n",
    "tick_marks = np.arange(len(classes))\n",
    "plt.xticks(tick_marks, classes, rotation= 45)\n",
    "plt.yticks(tick_marks, classes)\n",
    "\n",
    "\n",
    "thresh = cm.max() / 2.\n",
    "for i, j in itertools.product(range(cm.shape[0]), range(cm.shape[1])):\n",
    "    plt.text(j, i, cm[i, j], horizontalalignment= 'center', color= 'white' if cm[i, j] > thresh else 'black')\n",
    "\n",
    "plt.tight_layout()\n",
    "plt.ylabel('True Label')\n",
    "plt.xlabel('Predicted Label')\n",
    "\n",
    "\n",
    "plt.show()"
   ]
  },
  {
   "cell_type": "markdown",
   "metadata": {},
   "source": [
    "### K-mean"
   ]
  },
  {
   "cell_type": "code",
   "execution_count": null,
   "metadata": {
    "execution": {
     "iopub.execute_input": "2023-12-21T02:44:19.583140Z",
     "iopub.status.busy": "2023-12-21T02:44:19.582182Z",
     "iopub.status.idle": "2023-12-21T02:44:19.595207Z",
     "shell.execute_reply": "2023-12-21T02:44:19.594104Z",
     "shell.execute_reply.started": "2023-12-21T02:44:19.583100Z"
    },
    "trusted": true
   },
   "outputs": [],
   "source": [
    "df"
   ]
  },
  {
   "cell_type": "code",
   "execution_count": null,
   "metadata": {
    "execution": {
     "iopub.execute_input": "2023-12-21T03:19:22.809340Z",
     "iopub.status.busy": "2023-12-21T03:19:22.808358Z",
     "iopub.status.idle": "2023-12-21T03:19:30.889975Z",
     "shell.execute_reply": "2023-12-21T03:19:30.889065Z",
     "shell.execute_reply.started": "2023-12-21T03:19:22.809281Z"
    },
    "trusted": true
   },
   "outputs": [],
   "source": [
    "images = [] \n",
    "for index2, row2 in df.iterrows():\n",
    "        image = cv2.imread(row2['data'])\n",
    "        gray_image = cv2.cvtColor(image, cv2.COLOR_BGR2GRAY)\n",
    "        images.append(gray_image)"
   ]
  },
  {
   "cell_type": "code",
   "execution_count": null,
   "metadata": {
    "execution": {
     "iopub.execute_input": "2023-12-21T03:19:30.892112Z",
     "iopub.status.busy": "2023-12-21T03:19:30.891810Z",
     "iopub.status.idle": "2023-12-21T03:19:31.162329Z",
     "shell.execute_reply": "2023-12-21T03:19:31.161309Z",
     "shell.execute_reply.started": "2023-12-21T03:19:30.892085Z"
    },
    "trusted": true
   },
   "outputs": [],
   "source": [
    "selected_image = images[0]\n",
    "\n",
    "# Display the image using matplotlib\n",
    "plt.figure(figsize=(4, 4))\n",
    "plt.imshow(selected_image, cmap='gray')\n",
    "plt.show()"
   ]
  },
  {
   "cell_type": "code",
   "execution_count": null,
   "metadata": {
    "execution": {
     "iopub.execute_input": "2023-12-21T03:19:31.163793Z",
     "iopub.status.busy": "2023-12-21T03:19:31.163487Z",
     "iopub.status.idle": "2023-12-21T03:19:31.169009Z",
     "shell.execute_reply": "2023-12-21T03:19:31.168013Z",
     "shell.execute_reply.started": "2023-12-21T03:19:31.163766Z"
    },
    "trusted": true
   },
   "outputs": [],
   "source": [
    "print(gray_image.shape)"
   ]
  },
  {
   "cell_type": "code",
   "execution_count": null,
   "metadata": {
    "execution": {
     "iopub.execute_input": "2023-12-21T03:19:31.171429Z",
     "iopub.status.busy": "2023-12-21T03:19:31.171120Z",
     "iopub.status.idle": "2023-12-21T03:19:31.261441Z",
     "shell.execute_reply": "2023-12-21T03:19:31.260618Z",
     "shell.execute_reply.started": "2023-12-21T03:19:31.171403Z"
    },
    "trusted": true
   },
   "outputs": [],
   "source": [
    "images = np.array(images)"
   ]
  },
  {
   "cell_type": "code",
   "execution_count": null,
   "metadata": {
    "execution": {
     "iopub.execute_input": "2023-12-21T03:19:31.262951Z",
     "iopub.status.busy": "2023-12-21T03:19:31.262676Z",
     "iopub.status.idle": "2023-12-21T03:19:31.268948Z",
     "shell.execute_reply": "2023-12-21T03:19:31.267937Z",
     "shell.execute_reply.started": "2023-12-21T03:19:31.262928Z"
    },
    "trusted": true
   },
   "outputs": [],
   "source": [
    "len(images)"
   ]
  },
  {
   "cell_type": "code",
   "execution_count": null,
   "metadata": {
    "execution": {
     "iopub.execute_input": "2023-12-21T04:00:56.087604Z",
     "iopub.status.busy": "2023-12-21T04:00:56.086875Z",
     "iopub.status.idle": "2023-12-21T04:00:56.092616Z",
     "shell.execute_reply": "2023-12-21T04:00:56.091667Z",
     "shell.execute_reply.started": "2023-12-21T04:00:56.087567Z"
    },
    "trusted": true
   },
   "outputs": [],
   "source": [
    "data = images.reshape((len(images), -1))"
   ]
  },
  {
   "cell_type": "code",
   "execution_count": null,
   "metadata": {
    "execution": {
     "iopub.execute_input": "2023-12-21T04:00:56.522500Z",
     "iopub.status.busy": "2023-12-21T04:00:56.522082Z",
     "iopub.status.idle": "2023-12-21T04:00:56.528765Z",
     "shell.execute_reply": "2023-12-21T04:00:56.527832Z",
     "shell.execute_reply.started": "2023-12-21T04:00:56.522466Z"
    },
    "trusted": true
   },
   "outputs": [],
   "source": [
    "data.shape"
   ]
  },
  {
   "cell_type": "code",
   "execution_count": null,
   "metadata": {
    "execution": {
     "iopub.execute_input": "2023-12-21T04:01:01.241367Z",
     "iopub.status.busy": "2023-12-21T04:01:01.240459Z",
     "iopub.status.idle": "2023-12-21T04:01:01.246127Z",
     "shell.execute_reply": "2023-12-21T04:01:01.245003Z",
     "shell.execute_reply.started": "2023-12-21T04:01:01.241331Z"
    },
    "trusted": true
   },
   "outputs": [],
   "source": [
    "km = KMeans(n_clusters=3, random_state=42, n_init=\"auto\")"
   ]
  },
  {
   "cell_type": "code",
   "execution_count": null,
   "metadata": {
    "execution": {
     "iopub.execute_input": "2023-12-21T04:02:22.407738Z",
     "iopub.status.busy": "2023-12-21T04:02:22.407320Z",
     "iopub.status.idle": "2023-12-21T04:02:37.640133Z",
     "shell.execute_reply": "2023-12-21T04:02:37.639236Z",
     "shell.execute_reply.started": "2023-12-21T04:02:22.407705Z"
    },
    "trusted": true
   },
   "outputs": [],
   "source": [
    "km.fit_predict(data)"
   ]
  },
  {
   "cell_type": "code",
   "execution_count": null,
   "metadata": {
    "execution": {
     "iopub.execute_input": "2023-12-21T04:02:42.608508Z",
     "iopub.status.busy": "2023-12-21T04:02:42.607613Z",
     "iopub.status.idle": "2023-12-21T04:02:42.975535Z",
     "shell.execute_reply": "2023-12-21T04:02:42.974555Z",
     "shell.execute_reply.started": "2023-12-21T04:02:42.608474Z"
    },
    "trusted": true
   },
   "outputs": [],
   "source": [
    "fig, ax = plt.subplots(1, 3, figsize=(15, 3))\n",
    "\n",
    "for i in range(3):\n",
    "    center_image = km.cluster_centers_[i].reshape(256, 256)  # Reshape to original dimensions\n",
    "    ax[i].imshow(center_image, cmap='gray')\n",
    "    ax[i].axis('off')\n",
    "    ax[i].set_title(f'Cluster {i}')\n",
    "\n",
    "plt.show()\n"
   ]
  },
  {
   "cell_type": "code",
   "execution_count": null,
   "metadata": {
    "execution": {
     "iopub.execute_input": "2023-12-21T04:02:58.870982Z",
     "iopub.status.busy": "2023-12-21T04:02:58.870573Z",
     "iopub.status.idle": "2023-12-21T04:02:59.305776Z",
     "shell.execute_reply": "2023-12-21T04:02:59.304826Z",
     "shell.execute_reply.started": "2023-12-21T04:02:58.870955Z"
    },
    "trusted": true
   },
   "outputs": [],
   "source": [
    "# Plotting the clustered data\n",
    "plt.figure(figsize=(8, 6))\n",
    "cluster_labels = km.labels_\n",
    "# Scatter plot for each cluster\n",
    "for cluster in range(3):\n",
    "    plt.scatter(\n",
    "        data[cluster_labels == cluster, 0],\n",
    "        data[cluster_labels == cluster, 1],\n",
    "        label=f'Cluster {cluster + 1}'\n",
    "    )\n",
    "\n",
    "# Plotting centroids if needed\n",
    "centroids = km.cluster_centers_\n",
    "plt.scatter(centroids[:, 0], centroids[:, 1], marker='o', s=200, color='black', label='Centroids')\n",
    "\n",
    "plt.title('K-means Clustering')\n",
    "plt.xlabel('Feature 1')\n",
    "plt.ylabel('Feature 2')\n",
    "plt.legend()\n",
    "plt.grid(True)\n",
    "plt.show()"
   ]
  },
  {
   "cell_type": "code",
   "execution_count": null,
   "metadata": {},
   "outputs": [],
   "source": []
  }
 ],
 "metadata": {
  "kaggle": {
   "accelerator": "gpu",
   "dataSources": [
    {
     "datasetId": 70909,
     "sourceId": 150545,
     "sourceType": "datasetVersion"
    }
   ],
   "dockerImageVersionId": 30616,
   "isGpuEnabled": true,
   "isInternetEnabled": true,
   "language": "python",
   "sourceType": "notebook"
  },
  "kernelspec": {
   "display_name": "Python 3",
   "language": "python",
   "name": "python3"
  },
  "language_info": {
   "codemirror_mode": {
    "name": "ipython",
    "version": 3
   },
   "file_extension": ".py",
   "mimetype": "text/x-python",
   "name": "python",
   "nbconvert_exporter": "python",
   "pygments_lexer": "ipython3",
   "version": "undefined.undefined.undefined"
  }
 },
 "nbformat": 4,
 "nbformat_minor": 4
}
